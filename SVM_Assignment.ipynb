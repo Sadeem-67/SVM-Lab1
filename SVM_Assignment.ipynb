{
 "cells": [
  {
   "cell_type": "markdown",
   "id": "f64fe8f3",
   "metadata": {},
   "source": [
    "# Tweet classification: Trump vs. Trudeau"
   ]
  },
  {
   "cell_type": "markdown",
   "id": "9e7fe2f9",
   "metadata": {},
   "source": [
    "# 1. Import the libraries\n",
    "\n",
    "- Note : use a specific random state for your solution."
   ]
  },
  {
   "cell_type": "code",
   "execution_count": 1,
   "id": "5ded69b7",
   "metadata": {},
   "outputs": [],
   "source": [
    "import warnings\n",
    "warnings.filterwarnings(\"ignore\")\n",
    "import pandas as pd\n",
    "import numpy as np\n",
    "import seaborn as sns\n",
    "from sklearn.model_selection import train_test_split\n",
    "import pandas as pd\n",
    "from sklearn.feature_extraction.text import CountVectorizer,TfidfVectorizer\n",
    "from sklearn.linear_model import LogisticRegression\n",
    "from sklearn.svm import SVC\n",
    "from sklearn.metrics import accuracy_score\n",
    "import toarray\n",
    "from sklearn.metrics import confusion_matrix\n",
    "import matplotlib.pyplot as plt"
   ]
  },
  {
   "cell_type": "markdown",
   "id": "0098afc7",
   "metadata": {},
   "source": [
    "# 2. Read the dataset"
   ]
  },
  {
   "cell_type": "code",
   "execution_count": 2,
   "id": "b82cb339",
   "metadata": {},
   "outputs": [],
   "source": [
    "df = pd.read_csv(\"tweets.csv\")"
   ]
  },
  {
   "cell_type": "code",
   "execution_count": 3,
   "id": "578b9d8e-bd9a-4148-ba12-6a1787273fee",
   "metadata": {},
   "outputs": [
    {
     "data": {
      "text/html": [
       "<div>\n",
       "<style scoped>\n",
       "    .dataframe tbody tr th:only-of-type {\n",
       "        vertical-align: middle;\n",
       "    }\n",
       "\n",
       "    .dataframe tbody tr th {\n",
       "        vertical-align: top;\n",
       "    }\n",
       "\n",
       "    .dataframe thead th {\n",
       "        text-align: right;\n",
       "    }\n",
       "</style>\n",
       "<table border=\"1\" class=\"dataframe\">\n",
       "  <thead>\n",
       "    <tr style=\"text-align: right;\">\n",
       "      <th></th>\n",
       "      <th>id</th>\n",
       "      <th>author</th>\n",
       "      <th>status</th>\n",
       "    </tr>\n",
       "  </thead>\n",
       "  <tbody>\n",
       "    <tr>\n",
       "      <th>0</th>\n",
       "      <td>1</td>\n",
       "      <td>Donald J. Trump</td>\n",
       "      <td>I will be making a major statement from the @W...</td>\n",
       "    </tr>\n",
       "    <tr>\n",
       "      <th>1</th>\n",
       "      <td>2</td>\n",
       "      <td>Donald J. Trump</td>\n",
       "      <td>Just arrived at #ASEAN50 in the Philippines fo...</td>\n",
       "    </tr>\n",
       "    <tr>\n",
       "      <th>2</th>\n",
       "      <td>3</td>\n",
       "      <td>Donald J. Trump</td>\n",
       "      <td>After my tour of Asia, all Countries dealing w...</td>\n",
       "    </tr>\n",
       "    <tr>\n",
       "      <th>3</th>\n",
       "      <td>4</td>\n",
       "      <td>Donald J. Trump</td>\n",
       "      <td>Great to see @RandPaul looking well and back o...</td>\n",
       "    </tr>\n",
       "    <tr>\n",
       "      <th>4</th>\n",
       "      <td>5</td>\n",
       "      <td>Donald J. Trump</td>\n",
       "      <td>Excited to be heading home to see the House pa...</td>\n",
       "    </tr>\n",
       "    <tr>\n",
       "      <th>...</th>\n",
       "      <td>...</td>\n",
       "      <td>...</td>\n",
       "      <td>...</td>\n",
       "    </tr>\n",
       "    <tr>\n",
       "      <th>395</th>\n",
       "      <td>396</td>\n",
       "      <td>Justin Trudeau</td>\n",
       "      <td>RT @googlecanada: Watch tmw: @JustinTrudeau di...</td>\n",
       "    </tr>\n",
       "    <tr>\n",
       "      <th>396</th>\n",
       "      <td>397</td>\n",
       "      <td>Justin Trudeau</td>\n",
       "      <td>Today in Ottawa, I met with the Modern Treaty ...</td>\n",
       "    </tr>\n",
       "    <tr>\n",
       "      <th>397</th>\n",
       "      <td>398</td>\n",
       "      <td>Justin Trudeau</td>\n",
       "      <td>Voici le sommaire de ma rencontre avec les Pre...</td>\n",
       "    </tr>\n",
       "    <tr>\n",
       "      <th>398</th>\n",
       "      <td>399</td>\n",
       "      <td>Justin Trudeau</td>\n",
       "      <td>RT @VeteransENG_CA: #Day1 of 11 Days of Rememb...</td>\n",
       "    </tr>\n",
       "    <tr>\n",
       "      <th>399</th>\n",
       "      <td>400</td>\n",
       "      <td>Justin Trudeau</td>\n",
       "      <td>RT @VeteransFR_CA: #Jour1 des 11 jours pour se...</td>\n",
       "    </tr>\n",
       "  </tbody>\n",
       "</table>\n",
       "<p>400 rows × 3 columns</p>\n",
       "</div>"
      ],
      "text/plain": [
       "      id           author                                             status\n",
       "0      1  Donald J. Trump  I will be making a major statement from the @W...\n",
       "1      2  Donald J. Trump  Just arrived at #ASEAN50 in the Philippines fo...\n",
       "2      3  Donald J. Trump  After my tour of Asia, all Countries dealing w...\n",
       "3      4  Donald J. Trump  Great to see @RandPaul looking well and back o...\n",
       "4      5  Donald J. Trump  Excited to be heading home to see the House pa...\n",
       "..   ...              ...                                                ...\n",
       "395  396   Justin Trudeau  RT @googlecanada: Watch tmw: @JustinTrudeau di...\n",
       "396  397   Justin Trudeau  Today in Ottawa, I met with the Modern Treaty ...\n",
       "397  398   Justin Trudeau  Voici le sommaire de ma rencontre avec les Pre...\n",
       "398  399   Justin Trudeau  RT @VeteransENG_CA: #Day1 of 11 Days of Rememb...\n",
       "399  400   Justin Trudeau  RT @VeteransFR_CA: #Jour1 des 11 jours pour se...\n",
       "\n",
       "[400 rows x 3 columns]"
      ]
     },
     "execution_count": 3,
     "metadata": {},
     "output_type": "execute_result"
    }
   ],
   "source": [
    "df"
   ]
  },
  {
   "cell_type": "markdown",
   "id": "973ca1dd",
   "metadata": {},
   "source": [
    "# 3. Split the dataset into X and y"
   ]
  },
  {
   "cell_type": "code",
   "execution_count": 4,
   "id": "5f23334b",
   "metadata": {},
   "outputs": [],
   "source": [
    "y= df[\"author\"]\n",
    "x = df[\"status\"]"
   ]
  },
  {
   "cell_type": "markdown",
   "id": "0555d930",
   "metadata": {},
   "source": [
    "# 4. Split the dataset into training set and testing set"
   ]
  },
  {
   "cell_type": "code",
   "execution_count": 5,
   "id": "6e46c11e",
   "metadata": {},
   "outputs": [],
   "source": [
    "x_train, x_test , y_train, y_test = train_test_split(x, y, test_size=0.25 , random_state=0)"
   ]
  },
  {
   "cell_type": "markdown",
   "id": "19af5bd9",
   "metadata": {},
   "source": [
    "# 5. Vectorize the tweets\n",
    "\n",
    "- Note : Read about CountVectorizer and TfidfVectorizer methods and use them in training and testing dataset."
   ]
  },
  {
   "cell_type": "code",
   "execution_count": 6,
   "id": "08cd6b10",
   "metadata": {},
   "outputs": [],
   "source": [
    "count_vec = CountVectorizer()"
   ]
  },
  {
   "cell_type": "code",
   "execution_count": 7,
   "id": "5c568147-eb33-4471-91a9-638477277b2d",
   "metadata": {},
   "outputs": [],
   "source": [
    "word_count_vec = count_vec.fit_transform(x_train)"
   ]
  },
  {
   "cell_type": "code",
   "execution_count": 8,
   "id": "f85a2429-ac45-4925-8052-a47db64bb70a",
   "metadata": {},
   "outputs": [],
   "source": [
    "testcount= count_vec.transform(x_test)"
   ]
  },
  {
   "cell_type": "code",
   "execution_count": 9,
   "id": "f08f41e8-0efc-42ae-9687-be89360fb14a",
   "metadata": {},
   "outputs": [
    {
     "name": "stdout",
     "output_type": "stream",
     "text": [
      "[[0 0 0 ... 0 0 0]\n",
      " [0 0 0 ... 0 0 0]\n",
      " [0 0 0 ... 0 0 0]\n",
      " ...\n",
      " [0 0 0 ... 0 0 0]\n",
      " [0 0 0 ... 0 0 0]\n",
      " [0 0 0 ... 0 0 0]]\n"
     ]
    }
   ],
   "source": [
    "print(testcount.toarray())"
   ]
  },
  {
   "cell_type": "code",
   "execution_count": 10,
   "id": "cd443acb-7cca-46ee-9a33-414f3e36b34a",
   "metadata": {},
   "outputs": [],
   "source": [
    "vectorizer = TfidfVectorizer()\n",
    "trsfm=vectorizer.fit_transform(x_train)"
   ]
  },
  {
   "cell_type": "code",
   "execution_count": 11,
   "id": "4642a3f3-19c8-46bd-9e40-1dd580f6ab0e",
   "metadata": {},
   "outputs": [],
   "source": [
    "testtfidf= vectorizer.transform(x_test)"
   ]
  },
  {
   "cell_type": "code",
   "execution_count": 12,
   "id": "32357bab-4d70-4ac1-a0e6-54d7db711a63",
   "metadata": {},
   "outputs": [
    {
     "name": "stdout",
     "output_type": "stream",
     "text": [
      "[[0. 0. 0. ... 0. 0. 0.]\n",
      " [0. 0. 0. ... 0. 0. 0.]\n",
      " [0. 0. 0. ... 0. 0. 0.]\n",
      " ...\n",
      " [0. 0. 0. ... 0. 0. 0.]\n",
      " [0. 0. 0. ... 0. 0. 0.]\n",
      " [0. 0. 0. ... 0. 0. 0.]]\n"
     ]
    }
   ],
   "source": [
    "print(testtfidf.toarray())"
   ]
  },
  {
   "cell_type": "markdown",
   "id": "be72e926",
   "metadata": {},
   "source": [
    "# 6. Train a Logistic Regression model\n",
    "\n",
    "- Build and train two models, the first by using the tfidf data, and the second by using count vectorize data."
   ]
  },
  {
   "cell_type": "code",
   "execution_count": 13,
   "id": "5e1cccc1",
   "metadata": {},
   "outputs": [],
   "source": [
    "lcount=LogisticRegression()\n",
    "ltfidf=LogisticRegression()"
   ]
  },
  {
   "cell_type": "code",
   "execution_count": 14,
   "id": "eb1f8e4a-b1c5-4307-b564-c3565ec3b426",
   "metadata": {},
   "outputs": [
    {
     "data": {
      "text/plain": [
       "LogisticRegression()"
      ]
     },
     "execution_count": 14,
     "metadata": {},
     "output_type": "execute_result"
    }
   ],
   "source": [
    "lcount.fit(word_count_vec,y_train)\n",
    "ltfidf.fit(trsfm,y_train)"
   ]
  },
  {
   "cell_type": "markdown",
   "id": "3098f445",
   "metadata": {},
   "source": [
    "# 7. Train a SVM model\n",
    "\n",
    "- Build and train two models, the first by using the tfidf data, and the second by using count vectorize data."
   ]
  },
  {
   "cell_type": "code",
   "execution_count": 15,
   "id": "e0b7d25a",
   "metadata": {},
   "outputs": [],
   "source": [
    "scount = SVC()\n",
    "stfidf = SVC()"
   ]
  },
  {
   "cell_type": "code",
   "execution_count": 16,
   "id": "892aaed0-7146-4945-9e90-de77135d8f9d",
   "metadata": {},
   "outputs": [
    {
     "data": {
      "text/plain": [
       "SVC()"
      ]
     },
     "execution_count": 16,
     "metadata": {},
     "output_type": "execute_result"
    }
   ],
   "source": [
    "scount.fit(word_count_vec,y_train)\n",
    "stfidf.fit(trsfm,y_train)"
   ]
  },
  {
   "cell_type": "markdown",
   "id": "2d7231bd",
   "metadata": {},
   "source": [
    "# 8. Make a prediction and calculate the score for both Logistic Regression and SVM"
   ]
  },
  {
   "cell_type": "code",
   "execution_count": 17,
   "id": "e499415e-bcd5-46ee-9b11-b9378ca469d5",
   "metadata": {},
   "outputs": [],
   "source": [
    "lcount_pred = lcount.predict(testcount)"
   ]
  },
  {
   "cell_type": "code",
   "execution_count": 18,
   "id": "f6601d76-e855-4780-9fe5-a0cb77fd13f5",
   "metadata": {},
   "outputs": [],
   "source": [
    "ltfidf_pred = ltfidf.predict(testtfidf)"
   ]
  },
  {
   "cell_type": "code",
   "execution_count": 19,
   "id": "d96a2080",
   "metadata": {},
   "outputs": [
    {
     "data": {
      "text/plain": [
       "0.88"
      ]
     },
     "execution_count": 19,
     "metadata": {},
     "output_type": "execute_result"
    }
   ],
   "source": [
    "score_lgc = accuracy_score(y_test, lcount_pred)\n",
    "score_lgc"
   ]
  },
  {
   "cell_type": "code",
   "execution_count": 20,
   "id": "8900d82c-949d-444c-abcf-6577d3544ae3",
   "metadata": {},
   "outputs": [
    {
     "data": {
      "text/plain": [
       "0.87"
      ]
     },
     "execution_count": 20,
     "metadata": {},
     "output_type": "execute_result"
    }
   ],
   "source": [
    "score_lgt = accuracy_score(y_test, ltfidf_pred)\n",
    "score_lgt"
   ]
  },
  {
   "cell_type": "code",
   "execution_count": 21,
   "id": "d1612b1c-5c1b-45b2-8455-4b33d6fe4c09",
   "metadata": {},
   "outputs": [],
   "source": [
    "scount_pred = scount.predict(testcount)\n",
    "stfidf_pred = stfidf.predict(testtfidf)"
   ]
  },
  {
   "cell_type": "code",
   "execution_count": 22,
   "id": "ae4ba566-d680-478e-a158-38609faac9f7",
   "metadata": {},
   "outputs": [
    {
     "data": {
      "text/plain": [
       "0.86"
      ]
     },
     "execution_count": 22,
     "metadata": {},
     "output_type": "execute_result"
    }
   ],
   "source": [
    "score_sc = accuracy_score(y_test, scount_pred)\n",
    "score_sc"
   ]
  },
  {
   "cell_type": "code",
   "execution_count": 23,
   "id": "e569a3ad-f030-4f9f-a52f-1d502ed1a543",
   "metadata": {},
   "outputs": [
    {
     "data": {
      "text/plain": [
       "0.88"
      ]
     },
     "execution_count": 23,
     "metadata": {},
     "output_type": "execute_result"
    }
   ],
   "source": [
    "score_st = accuracy_score(y_test, stfidf_pred)\n",
    "score_st"
   ]
  },
  {
   "cell_type": "markdown",
   "id": "d01034b8",
   "metadata": {},
   "source": [
    "# 9. Plot a confusion matrix for both Logistic Regression and SVM"
   ]
  },
  {
   "cell_type": "code",
   "execution_count": 24,
   "id": "2f7b5baa-6789-4553-93fa-7bcebe2955f2",
   "metadata": {},
   "outputs": [],
   "source": [
    "lcount_cm = confusion_matrix(y_test, lcount_pred)\n",
    "ltfidf_cm = confusion_matrix(y_test, ltfidf_pred)\n",
    "scount_cm = confusion_matrix(y_test, scount_pred)\n",
    "stfidf_cm = confusion_matrix(y_test, stfidf_pred)"
   ]
  },
  {
   "cell_type": "code",
   "execution_count": 25,
   "id": "523d73ff-900d-4f49-bc31-e20947a4e02a",
   "metadata": {},
   "outputs": [
    {
     "data": {
      "image/png": "[encoded data removed]",
      "text/plain": [
       "<Figure size 800x600 with 8 Axes>"
      ]
     },
     "metadata": {},
     "output_type": "display_data"
    }
   ],
   "source": [
    "plt.figure(figsize=(8, 6))\n",
    "\n",
    "plt.subplot(2, 2, 1)\n",
    "sns.heatmap(lcount_cm, annot = True);\n",
    "plt.title('Logistic Regression Count')\n",
    "\n",
    "plt.subplot(2, 2, 2)\n",
    "sns.heatmap(ltfidf_cm, annot = True);\n",
    "plt.title('Logistic Regression Tfidf')\n",
    "\n",
    "plt.subplot(2, 2, 3)\n",
    "sns.heatmap(scount_cm, annot = True)\n",
    "plt.title('svm Count')\n",
    "\n",
    "plt.subplot(2, 2, 4)\n",
    "sns.heatmap(stfidf_cm, annot = True);\n",
    "plt.title('svm Tfidf')\n",
    "\n",
    "\n",
    "plt.show()"
   ]
  },
  {
   "cell_type": "code",
   "execution_count": null,
   "id": "bf21a23a-7e4a-4fdc-adbb-f19ebaf9bfbc",
   "metadata": {},
   "outputs": [],
   "source": []
  }
 ],
 "metadata": {
  "kernelspec": {
   "display_name": "Python 3 (ipykernel)",
   "language": "python",
   "name": "python3"
  },
  "language_info": {
   "codemirror_mode": {
    "name": "ipython",
    "version": 3
   },
   "file_extension": ".py",
   "mimetype": "text/x-python",
   "name": "python",
   "nbconvert_exporter": "python",
   "pygments_lexer": "ipython3",
   "version": "3.9.13"
  }
 },
 "nbformat": 4,
 "nbformat_minor": 5
}
